{
 "cells": [
  {
   "cell_type": "code",
   "execution_count": 9,
   "metadata": {},
   "outputs": [
    {
     "ename": "OverflowError",
     "evalue": "(34, 'Result too large')",
     "output_type": "error",
     "traceback": [
      "\u001b[0;31m---------------------------------------------------------------------------\u001b[0m",
      "\u001b[0;31mOverflowError\u001b[0m                             Traceback (most recent call last)",
      "Input \u001b[0;32mIn [9]\u001b[0m, in \u001b[0;36m<cell line: 5>\u001b[0;34m()\u001b[0m\n\u001b[1;32m      2\u001b[0m     interpolated_value \u001b[38;5;241m=\u001b[39m min_val \u001b[38;5;241m*\u001b[39m (max_val \u001b[38;5;241m/\u001b[39m min_val) \u001b[38;5;241m*\u001b[39m\u001b[38;5;241m*\u001b[39m (rate \u001b[38;5;241m*\u001b[39m value)\n\u001b[1;32m      3\u001b[0m     \u001b[38;5;28;01mreturn\u001b[39;00m interpolated_value\n\u001b[0;32m----> 5\u001b[0m \u001b[38;5;28mprint\u001b[39m(\u001b[43mexponential_interpolation\u001b[49m\u001b[43m(\u001b[49m\u001b[38;5;241;43m5\u001b[39;49m\u001b[43m,\u001b[49m\u001b[43m \u001b[49m\u001b[38;5;241;43m100\u001b[39;49m\u001b[43m,\u001b[49m\u001b[43m \u001b[49m\u001b[38;5;241;43m3\u001b[39;49m\u001b[43m,\u001b[49m\u001b[43m \u001b[49m\u001b[38;5;241;43m1000000000\u001b[39;49m\u001b[43m)\u001b[49m)\n",
      "Input \u001b[0;32mIn [9]\u001b[0m, in \u001b[0;36mexponential_interpolation\u001b[0;34m(min_val, max_val, rate, value)\u001b[0m\n\u001b[1;32m      1\u001b[0m \u001b[38;5;28;01mdef\u001b[39;00m \u001b[38;5;21mexponential_interpolation\u001b[39m(min_val, max_val, rate, value):\n\u001b[0;32m----> 2\u001b[0m     interpolated_value \u001b[38;5;241m=\u001b[39m min_val \u001b[38;5;241m*\u001b[39m \u001b[43m(\u001b[49m\u001b[43mmax_val\u001b[49m\u001b[43m \u001b[49m\u001b[38;5;241;43m/\u001b[39;49m\u001b[43m \u001b[49m\u001b[43mmin_val\u001b[49m\u001b[43m)\u001b[49m\u001b[43m \u001b[49m\u001b[38;5;241;43m*\u001b[39;49m\u001b[38;5;241;43m*\u001b[39;49m\u001b[43m \u001b[49m\u001b[43m(\u001b[49m\u001b[43mrate\u001b[49m\u001b[43m \u001b[49m\u001b[38;5;241;43m*\u001b[39;49m\u001b[43m \u001b[49m\u001b[43mvalue\u001b[49m\u001b[43m)\u001b[49m\n\u001b[1;32m      3\u001b[0m     \u001b[38;5;28;01mreturn\u001b[39;00m interpolated_value\n",
      "\u001b[0;31mOverflowError\u001b[0m: (34, 'Result too large')"
     ]
    }
   ],
   "source": [
    "def exponential_interpolation(min_val, max_val, rate, value):\n",
    "    interpolated_value = min_val * (max_val / min_val) ** (rate * value)\n",
    "    return interpolated_value\n",
    "\n",
    "print(exponential_interpolation(81, 988, 3, 10))"
   ]
  },
  {
   "cell_type": "code",
   "execution_count": 3,
   "metadata": {},
   "outputs": [
    {
     "name": "stdout",
     "output_type": "stream",
     "text": [
      "8\n",
      "4\n"
     ]
    }
   ],
   "source": [
    "def test1(p1):\n",
    "    var = p1\n",
    "    def test(x):\n",
    "        return x + var\n",
    "    return test\n",
    "\n",
    "fn1 = test1(4)\n",
    "fn2 = test1(0)\n",
    "\n",
    "print(fn1(4))\n",
    "print(fn2(4))"
   ]
  }
 ],
 "metadata": {
  "interpreter": {
   "hash": "ec6e623fd485461216b75fd9545ebf92828e5eed7b77bf9222c885a7820337f0"
  },
  "kernelspec": {
   "display_name": "Python 3.9.9 64-bit ('3.9.9')",
   "language": "python",
   "name": "python3"
  },
  "language_info": {
   "codemirror_mode": {
    "name": "ipython",
    "version": 3
   },
   "file_extension": ".py",
   "mimetype": "text/x-python",
   "name": "python",
   "nbconvert_exporter": "python",
   "pygments_lexer": "ipython3",
   "version": "3.9.9"
  },
  "orig_nbformat": 4
 },
 "nbformat": 4,
 "nbformat_minor": 2
}
