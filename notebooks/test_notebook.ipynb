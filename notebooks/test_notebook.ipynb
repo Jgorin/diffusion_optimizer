{
 "cells": [
  {
   "cell_type": "code",
   "execution_count": 39,
   "metadata": {},
   "outputs": [
    {
     "name": "stdout",
     "output_type": "stream",
     "text": [
      "56.38905609893065\n"
     ]
    }
   ],
   "source": [
    "import math \n",
    "def adaptive_sample_count(current_error, rate, intercept):\n",
    "    return int(min(1000, intercept + (math.exp(rate * current_error) - 1)))\n",
    "\n",
    "print(exponential_growth(0.2, 20, 50))"
   ]
  }
 ],
 "metadata": {
  "interpreter": {
   "hash": "ec6e623fd485461216b75fd9545ebf92828e5eed7b77bf9222c885a7820337f0"
  },
  "kernelspec": {
   "display_name": "Python 3.9.9 64-bit ('3.9.9')",
   "language": "python",
   "name": "python3"
  },
  "language_info": {
   "codemirror_mode": {
    "name": "ipython",
    "version": 3
   },
   "file_extension": ".py",
   "mimetype": "text/x-python",
   "name": "python",
   "nbconvert_exporter": "python",
   "pygments_lexer": "ipython3",
   "version": "3.9.9"
  },
  "orig_nbformat": 4
 },
 "nbformat": 4,
 "nbformat_minor": 2
}
